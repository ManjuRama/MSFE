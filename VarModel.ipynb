{
  "nbformat": 4,
  "nbformat_minor": 0,
  "metadata": {
    "colab": {
      "provenance": [],
      "authorship_tag": "ABX9TyNAPBBwbzzzJSATtAG5jFpW",
      "include_colab_link": true
    },
    "kernelspec": {
      "name": "python3",
      "display_name": "Python 3"
    },
    "language_info": {
      "name": "python"
    }
  },
  "cells": [
    {
      "cell_type": "markdown",
      "metadata": {
        "id": "view-in-github",
        "colab_type": "text"
      },
      "source": [
        "<a href=\"https://colab.research.google.com/github/ManjuRama/MSFE/blob/main/VarModel.ipynb\" target=\"_parent\"><img src=\"https://colab.research.google.com/assets/colab-badge.svg\" alt=\"Open In Colab\"/></a>"
      ]
    },
    {
      "cell_type": "code",
      "execution_count": null,
      "metadata": {
        "id": "_e479JzMoFBO"
      },
      "outputs": [],
      "source": [
        "import pandas as pd\n",
        "import numpy as np\n",
        "from statsmodels.tsa.api import VAR\n",
        "from sklearn.metrics import mean_squared_error\n",
        "import matplotlib.pyplot as plt\n",
        "\n",
        "# Example DataFrame (ensure your real dataset is properly loaded here)\n",
        "# Assuming you have a dataset with columns: 'volumelastminute', 'volumelasthour', 'spread', 'midprice', 'nexthourvolume'\n",
        "# Load your dataset as a pandas DataFrame\n",
        "# df = pd.read_csv('your_dataset.csv')\n",
        "\n",
        "# For example, generating synthetic data for demonstration purposes:\n",
        "np.random.seed(42)\n",
        "n = 1000  # number of time steps\n",
        "data = {\n",
        "    'volumelastminute': np.random.rand(n) * 100,\n",
        "    'volumelasthour': np.random.rand(n) * 500,\n",
        "    'spread': np.random.rand(n) * 5,\n",
        "    'midprice': np.random.rand(n) * 1000,\n",
        "    'nexthourvolume': np.random.rand(n) * 600\n",
        "}\n",
        "df = pd.DataFrame(data)\n",
        "\n",
        "# Lag selection: for VAR, we need to determine how many lags to include\n",
        "# We'll keep 1 lag for this example (VAR(1))\n",
        "df_lagged = df.shift(1).dropna()\n",
        "\n",
        "# Split data into train and test sets\n",
        "train_size = int(len(df_lagged) * 0.8)  # 80% for training, 20% for testing\n",
        "train_data = df_lagged[:train_size]\n",
        "test_data = df_lagged[train_size:]\n",
        "\n",
        "# Fit the VAR model using the training data\n",
        "model = VAR(train_data)\n",
        "var_model = model.fit(maxlags=1)  # Fit the model with 1 lag (you can tune this by testing multiple lags)\n",
        "\n",
        "# Make predictions using the test data\n",
        "predictions = var_model.forecast(train_data.values[-1:], steps=len(test_data))\n",
        "\n",
        "# Convert predictions into a DataFrame for easier comparison\n",
        "predicted_df = pd.DataFrame(predictions, index=test_data.index, columns=train_data.columns)\n",
        "\n",
        "# Evaluate the model by comparing the predicted 'nexthourvolume' with the actual values\n",
        "actual_volume = test_data['nexthourvolume'].values\n",
        "predicted_volume = predicted_df['nexthourvolume'].values\n",
        "\n",
        "# Calculate the Mean Squared Error (MSE) for the predictions\n",
        "mse = mean_squared_error(actual_volume, predicted_volume)\n",
        "print(f\"Mean Squared Error: {mse}\")\n",
        "\n",
        "# Plot actual vs predicted 'nexthourvolume'\n",
        "plt.figure(figsize=(10,6))\n",
        "plt.plot(test_data.index, actual_volume, label='Actual nexthourvolume', color='blue')\n",
        "plt.plot(predicted_df.index, predicted_volume, label='Predicted nexthourvolume', color='red')\n",
        "plt.xlabel('Time')\n",
        "plt.ylabel('nexthourvolume')\n",
        "plt.legend()\n",
        "plt.title('Actual vs Predicted nexthourvolume')\n",
        "plt.show()\n"
      ]
    }
  ]
}